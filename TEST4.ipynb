{
 "cells": [
  {
   "cell_type": "code",
   "execution_count": 87,
   "metadata": {},
   "outputs": [],
   "source": [
    "import pandas as pd\n"
   ]
  },
  {
   "cell_type": "code",
   "execution_count": 88,
   "metadata": {},
   "outputs": [],
   "source": [
    "words=pd.read_csv(\"foglio1.csv\",names=[\"WORD\"])\n"
   ]
  },
  {
   "cell_type": "code",
   "execution_count": 89,
   "metadata": {},
   "outputs": [
    {
     "name": "stdout",
     "output_type": "stream",
     "text": [
      "                             WORD\n",
      "0                           Hello\n",
      "1                        Facebook\n",
      "2                          Google\n",
      "3            What Is Data Science\n",
      "4                    Data Science\n",
      "5                         Science\n",
      "6                            Data\n",
      "7                     Engineering\n",
      "8                          Python\n",
      "9           Programming languages\n",
      "10      Best programming language\n",
      "11                  Data analysis\n",
      "12                 Data wrangling\n",
      "13                         Pandas\n",
      "14                     Tensorflow\n",
      "15                          ARIMA\n",
      "16                SVM Classifiers\n",
      "17                Neural Networks\n",
      "18                  Deep Learning\n",
      "19               Machine Learning\n",
      "20                            RNN\n",
      "21                            CNN\n",
      "22  Convolutional Neural Networks\n",
      "23                 Graph Analysis\n",
      "24                          Gephi\n"
     ]
    }
   ],
   "source": [
    "print(words)"
   ]
  },
  {
   "cell_type": "code",
   "execution_count": 90,
   "metadata": {},
   "outputs": [],
   "source": [
    "results=words.sort_values([\"WORD\"],axis=0)"
   ]
  },
  {
   "cell_type": "code",
   "execution_count": 91,
   "metadata": {},
   "outputs": [
    {
     "name": "stdout",
     "output_type": "stream",
     "text": [
      "                             WORD\n",
      "15                          ARIMA\n",
      "10      Best programming language\n",
      "21                            CNN\n",
      "22  Convolutional Neural Networks\n",
      "6                            Data\n",
      "4                    Data Science\n",
      "11                  Data analysis\n",
      "12                 Data wrangling\n",
      "18                  Deep Learning\n",
      "7                     Engineering\n",
      "1                        Facebook\n",
      "24                          Gephi\n",
      "2                          Google\n",
      "23                 Graph Analysis\n",
      "0                           Hello\n",
      "19               Machine Learning\n",
      "17                Neural Networks\n",
      "13                         Pandas\n",
      "9           Programming languages\n",
      "8                          Python\n",
      "20                            RNN\n",
      "16                SVM Classifiers\n",
      "5                         Science\n",
      "14                     Tensorflow\n",
      "3            What Is Data Science\n"
     ]
    }
   ],
   "source": [
    "print(results)"
   ]
  },
  {
   "cell_type": "code",
   "execution_count": 92,
   "metadata": {},
   "outputs": [],
   "source": [
    "df=pd.DataFrame(results)"
   ]
  },
  {
   "cell_type": "code",
   "execution_count": 93,
   "metadata": {},
   "outputs": [
    {
     "name": "stdout",
     "output_type": "stream",
     "text": [
      "                             WORD\n",
      "15                          ARIMA\n",
      "10      Best programming language\n",
      "21                            CNN\n",
      "22  Convolutional Neural Networks\n",
      "6                            Data\n",
      "4                    Data Science\n",
      "11                  Data analysis\n",
      "12                 Data wrangling\n",
      "18                  Deep Learning\n",
      "7                     Engineering\n",
      "1                        Facebook\n",
      "24                          Gephi\n",
      "2                          Google\n",
      "23                 Graph Analysis\n",
      "0                           Hello\n",
      "19               Machine Learning\n",
      "17                Neural Networks\n",
      "13                         Pandas\n",
      "9           Programming languages\n",
      "8                          Python\n",
      "20                            RNN\n",
      "16                SVM Classifiers\n",
      "5                         Science\n",
      "14                     Tensorflow\n",
      "3            What Is Data Science\n"
     ]
    }
   ],
   "source": [
    "print(df)"
   ]
  },
  {
   "cell_type": "code",
   "execution_count": 94,
   "metadata": {},
   "outputs": [
    {
     "data": {
      "text/plain": [
       "WORD    25\n",
       "dtype: int64"
      ]
     },
     "execution_count": 94,
     "metadata": {},
     "output_type": "execute_result"
    }
   ],
   "source": [
    "df.count()"
   ]
  },
  {
   "cell_type": "code",
   "execution_count": 95,
   "metadata": {},
   "outputs": [],
   "source": [
    "df.to_csv('modifiedfoglio1.csv')"
   ]
  },
  {
   "cell_type": "code",
   "execution_count": null,
   "metadata": {},
   "outputs": [],
   "source": []
  },
  {
   "cell_type": "code",
   "execution_count": 96,
   "metadata": {},
   "outputs": [],
   "source": [
    "a=[]\n",
    "\n",
    "for i in range(0,len(list)):\n",
    "    a.append(list[i])\n",
    "    \n",
    "\n",
    " "
   ]
  },
  {
   "cell_type": "code",
   "execution_count": 97,
   "metadata": {},
   "outputs": [
    {
     "name": "stdout",
     "output_type": "stream",
     "text": [
      "['Hello', 'Facebook', 'Google', 'What Is Data Science', 'Data Science', 'Science', 'Data', 'Engineering', 'Python', 'Programming languages', 'Best programming language', 'Data analysis', 'Data wrangling', 'Pandas', 'Tensorflow', 'ARIMA', 'SVM Classifiers', 'Neural Networks', 'Deep Learning', 'Machine Learning', 'RNN', 'CNN', 'Convolutional Neural Networks', 'Graph Analysis', 'Gephi']\n"
     ]
    }
   ],
   "source": [
    "print(a)"
   ]
  },
  {
   "cell_type": "code",
   "execution_count": 98,
   "metadata": {},
   "outputs": [],
   "source": [
    "b=[]\n",
    "\n",
    "for i in range(0,len(a)):\n",
    "    k=a[i].replace(' ','')\n",
    "    b.append(k)\n",
    "    \n",
    "    "
   ]
  },
  {
   "cell_type": "code",
   "execution_count": 99,
   "metadata": {},
   "outputs": [
    {
     "name": "stdout",
     "output_type": "stream",
     "text": [
      "['Hello', 'Facebook', 'Google', 'WhatIsDataScience', 'DataScience', 'Science', 'Data', 'Engineering', 'Python', 'Programminglanguages', 'Bestprogramminglanguage', 'Dataanalysis', 'Datawrangling', 'Pandas', 'Tensorflow', 'ARIMA', 'SVMClassifiers', 'NeuralNetworks', 'DeepLearning', 'MachineLearning', 'RNN', 'CNN', 'ConvolutionalNeuralNetworks', 'GraphAnalysis', 'Gephi']\n"
     ]
    }
   ],
   "source": [
    "print(b)"
   ]
  },
  {
   "cell_type": "code",
   "execution_count": 100,
   "metadata": {},
   "outputs": [
    {
     "name": "stdout",
     "output_type": "stream",
     "text": [
      "6\n"
     ]
    }
   ],
   "source": [
    "print(len(b[2]))"
   ]
  },
  {
   "cell_type": "code",
   "execution_count": 101,
   "metadata": {},
   "outputs": [
    {
     "name": "stdout",
     "output_type": "stream",
     "text": [
      "270\n",
      "25\n",
      "10.8\n"
     ]
    }
   ],
   "source": [
    "sum=0\n",
    "for i in range(0,len(b)):\n",
    "    sum+=len(b[i])\n",
    "\n",
    "print(sum)\n",
    "print(len(b))\n",
    "print(sum/len(b))\n",
    "    "
   ]
  },
  {
   "cell_type": "code",
   "execution_count": null,
   "metadata": {},
   "outputs": [],
   "source": []
  }
 ],
 "metadata": {
  "kernelspec": {
   "display_name": "Python 3",
   "language": "python",
   "name": "python3"
  },
  "language_info": {
   "codemirror_mode": {
    "name": "ipython",
    "version": 3
   },
   "file_extension": ".py",
   "mimetype": "text/x-python",
   "name": "python",
   "nbconvert_exporter": "python",
   "pygments_lexer": "ipython3",
   "version": "3.7.3"
  }
 },
 "nbformat": 4,
 "nbformat_minor": 2
}
